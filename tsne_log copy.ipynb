{
 "cells": [
  {
   "cell_type": "code",
   "execution_count": 1,
   "metadata": {},
   "outputs": [],
   "source": [
    "import tsne_sort\n",
    "import method_1_jules\n",
    "import method_2_antoine\n",
    "import method_2_jules\n",
    "from utils import *\n",
    "from tqdm import tqdm\n",
    "import json \n",
    "\n",
    "import glob, os\n",
    "import numpy as np\n",
    "from sklearn import manifold\n",
    "\n",
    "import matplotlib.pyplot as plt\n",
    "from matplotlib.ticker import FuncFormatter\n",
    "\n",
    "files = [\n",
    "    'data/ecoli_100Kb_reads_5x.fasta',\n",
    "    'data/ecoli_100Kb_reads_10x.fasta',\n",
    "    'data/ecoli_100Kb_reads_20x.fasta',\n",
    "    'data/ecoli_100Kb_reads_40x.fasta',\n",
    "    'data/ecoli_100Kb_reads_80x.fasta',\n",
    "    'data/ecoli_100Kb_reads_120x.fasta'\n",
    "]"
   ]
  },
  {
   "cell_type": "code",
   "execution_count": null,
   "metadata": {},
   "outputs": [],
   "source": [
    "!mprof run tsne_sort.py\n"
   ]
  },
  {
   "cell_type": "code",
   "execution_count": null,
   "metadata": {},
   "outputs": [],
   "source": [
    "# TSNE sorting\n",
    "log = {}\n",
    "file = 'data/ecoli_100Kb_reads_120x.fasta'\n",
    "for chunk_size in tqdm([1000, 5000, 10000, 20000, 40000, 80000, 120000]):\n",
    "    log_monitor_func = monitor(\n",
    "        func=tsne_sort.sort_by_tsne(file, \"out_x.fasta\", chunk_size),\n",
    "        input_file='out_x.fasta',\n",
    "        compare_to=f'{file.replace(\"/\", \"/headerless/\")}.headerless.gz'\n",
    "        )\n",
    "    log[chunk_size] = log_monitor_func\n",
    "    os.remove('out_x.fasta')\n",
    "    os.remove('out_x.fasta.gz')\n",
    "\n",
    "    # chunk_size = list(log.keys())\n",
    "    # exec_time = []\n",
    "    # compression_ratio = []\n",
    "    # for chunk_size in log.keys():\n",
    "    #     compression_ratio.append(log[chunk_size]['compression_ratio'])\n",
    "    #     exec_time.append(log[chunk_size]['exec_time'])\n",
    "with open(f\"tsne_log_{file.replace('data/', '')}\", 'a') as f:\n",
    "    json.dump(log, f)\n"
   ]
  }
 ],
 "metadata": {
  "kernelspec": {
   "display_name": "Python 3.9.13 ('base')",
   "language": "python",
   "name": "python3"
  },
  "language_info": {
   "codemirror_mode": {
    "name": "ipython",
    "version": 3
   },
   "file_extension": ".py",
   "mimetype": "text/x-python",
   "name": "python",
   "nbconvert_exporter": "python",
   "pygments_lexer": "ipython3",
   "version": "3.9.13"
  },
  "orig_nbformat": 4,
  "vscode": {
   "interpreter": {
    "hash": "45bb1cb4637e4034484920e5cfb24c9afd84b0847d6c36e39edd3067d3a05462"
   }
  }
 },
 "nbformat": 4,
 "nbformat_minor": 2
}
