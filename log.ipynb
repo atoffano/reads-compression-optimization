{
 "cells": [
  {
   "cell_type": "code",
   "execution_count": 10,
   "metadata": {},
   "outputs": [],
   "source": [
    "import pca_sort\n",
    "import method_1_jules\n",
    "import method_2_antoine\n",
    "import method_2_jules\n",
    "from profiling import monitor_gzip, monitor\n",
    "from utils import *\n",
    "\n",
    "import glob, os\n",
    "import numpy as np\n",
    "from sklearn.decomposition import PCA\n",
    "from sklearn.preprocessing import StandardScaler\n",
    "from sklearn import manifold"
   ]
  },
  {
   "cell_type": "code",
   "execution_count": 11,
   "metadata": {},
   "outputs": [],
   "source": [
    "files = [\n",
    "    'data/ecoli_100Kb_reads_5x.fasta',\n",
    "    'data/ecoli_100Kb_reads_10x.fasta',\n",
    "    'data/ecoli_100Kb_reads_20x.fasta',\n",
    "    'data/ecoli_100Kb_reads_40x.fasta',\n",
    "    'data/ecoli_100Kb_reads_80x.fasta',\n",
    "    'data/ecoli_100Kb_reads_120x.fasta'\n",
    "]"
   ]
  },
  {
   "cell_type": "code",
   "execution_count": 22,
   "metadata": {},
   "outputs": [
    {
     "ename": "FileNotFoundError",
     "evalue": "[WinError 2] The system cannot find the file specified",
     "output_type": "error",
     "traceback": [
      "\u001b[1;31m---------------------------------------------------------------------------\u001b[0m",
      "\u001b[1;31mFileNotFoundError\u001b[0m                         Traceback (most recent call last)",
      "\u001b[1;32mc:\\Users\\antoi\\VSC_projects\\reads-compression-optimization\\log.ipynb Cell 3\u001b[0m in \u001b[0;36m<cell line: 4>\u001b[1;34m()\u001b[0m\n\u001b[0;32m      <a href='vscode-notebook-cell:/c%3A/Users/antoi/VSC_projects/reads-compression-optimization/log.ipynb#W2sZmlsZQ%3D%3D?line=3'>4</a>\u001b[0m \u001b[39mfor\u001b[39;00m file \u001b[39min\u001b[39;00m files:\n\u001b[0;32m      <a href='vscode-notebook-cell:/c%3A/Users/antoi/VSC_projects/reads-compression-optimization/log.ipynb#W2sZmlsZQ%3D%3D?line=4'>5</a>\u001b[0m     \u001b[39mfor\u001b[39;00m chunk_size \u001b[39min\u001b[39;00m \u001b[39mrange\u001b[39m(\u001b[39m1000\u001b[39m, \u001b[39m80000\u001b[39m, \u001b[39m1000\u001b[39m):\n\u001b[0;32m      <a href='vscode-notebook-cell:/c%3A/Users/antoi/VSC_projects/reads-compression-optimization/log.ipynb#W2sZmlsZQ%3D%3D?line=5'>6</a>\u001b[0m         log[(file, chunk_size)] \u001b[39m=\u001b[39m [\n\u001b[0;32m      <a href='vscode-notebook-cell:/c%3A/Users/antoi/VSC_projects/reads-compression-optimization/log.ipynb#W2sZmlsZQ%3D%3D?line=6'>7</a>\u001b[0m         monitor(pca_sort\u001b[39m.\u001b[39msort_by_pca(\u001b[39m\"\u001b[39m\u001b[39mdata/ecoli_100Kb_reads_80x.fasta\u001b[39m\u001b[39m\"\u001b[39m, \u001b[39m\"\u001b[39m\u001b[39mout_x.fasta\u001b[39m\u001b[39m\"\u001b[39m, chunk_size)),\n\u001b[1;32m----> <a href='vscode-notebook-cell:/c%3A/Users/antoi/VSC_projects/reads-compression-optimization/log.ipynb#W2sZmlsZQ%3D%3D?line=7'>8</a>\u001b[0m         monitor_gzip(\u001b[39m'\u001b[39;49m\u001b[39mout_x.fasta\u001b[39;49m\u001b[39m'\u001b[39;49m, \u001b[39mf\u001b[39;49m\u001b[39m'\u001b[39;49m\u001b[39m{\u001b[39;49;00mfile\u001b[39m.\u001b[39;49mreplace(\u001b[39m\"\u001b[39;49m\u001b[39m/\u001b[39;49m\u001b[39m\"\u001b[39;49m, \u001b[39m\"\u001b[39;49m\u001b[39m/headerless/\u001b[39;49m\u001b[39m\"\u001b[39;49m)\u001b[39m}\u001b[39;49;00m\u001b[39m.headerless.gz\u001b[39;49m\u001b[39m'\u001b[39;49m)\n\u001b[0;32m      <a href='vscode-notebook-cell:/c%3A/Users/antoi/VSC_projects/reads-compression-optimization/log.ipynb#W2sZmlsZQ%3D%3D?line=8'>9</a>\u001b[0m         ]\n\u001b[0;32m     <a href='vscode-notebook-cell:/c%3A/Users/antoi/VSC_projects/reads-compression-optimization/log.ipynb#W2sZmlsZQ%3D%3D?line=9'>10</a>\u001b[0m         \u001b[39mprint\u001b[39m(log)\n\u001b[0;32m     <a href='vscode-notebook-cell:/c%3A/Users/antoi/VSC_projects/reads-compression-optimization/log.ipynb#W2sZmlsZQ%3D%3D?line=10'>11</a>\u001b[0m         os\u001b[39m.\u001b[39mremove(\u001b[39m'\u001b[39m\u001b[39mout_x.fasta\u001b[39m\u001b[39m'\u001b[39m)\n",
      "File \u001b[1;32mc:\\Users\\antoi\\VSC_projects\\reads-compression-optimization\\profiling.py:54\u001b[0m, in \u001b[0;36mmonitor_gzip\u001b[1;34m(file, ori_file)\u001b[0m\n\u001b[0;32m     44\u001b[0m unsorted_comp_size \u001b[39m=\u001b[39m  {\n\u001b[0;32m     45\u001b[0m \u001b[39m'\u001b[39m\u001b[39mdata/headerless/ecoli_100Kb_reads_10x.fasta.headerless.gz\u001b[39m\u001b[39m'\u001b[39m : \u001b[39m292244\u001b[39m,\n\u001b[0;32m     46\u001b[0m \u001b[39m'\u001b[39m\u001b[39mdata/headerless/ecoli_100Kb_reads_120x.fasta.headerless.gz\u001b[39m\u001b[39m'\u001b[39m : \u001b[39m3508076\u001b[39m,\n\u001b[1;32m   (...)\u001b[0m\n\u001b[0;32m     50\u001b[0m \u001b[39m'\u001b[39m\u001b[39mdata/headerless/ecoli_100Kb_reads_80x.fasta.headerless.gz\u001b[39m\u001b[39m'\u001b[39m : \u001b[39m2342520\u001b[39m\n\u001b[0;32m     51\u001b[0m }\n\u001b[0;32m     53\u001b[0m logs \u001b[39m=\u001b[39m {}\n\u001b[1;32m---> 54\u001b[0m worker_process \u001b[39m=\u001b[39m subprocess\u001b[39m.\u001b[39;49mPopen([\u001b[39m\"\u001b[39;49m\u001b[39mgzip\u001b[39;49m\u001b[39m\"\u001b[39;49m, \u001b[39m\"\u001b[39;49m\u001b[39m-f\u001b[39;49m\u001b[39m\"\u001b[39;49m, \u001b[39m\"\u001b[39;49m\u001b[39m-k\u001b[39;49m\u001b[39m\"\u001b[39;49m, file])\n\u001b[0;32m     55\u001b[0m p \u001b[39m=\u001b[39m psutil\u001b[39m.\u001b[39mProcess(worker_process\u001b[39m.\u001b[39mpid)\n\u001b[0;32m     56\u001b[0m \u001b[39m# log cpu usage of `worker_process` every 10 ms\u001b[39;00m\n",
      "File \u001b[1;32mc:\\Users\\antoi\\miniconda3\\lib\\subprocess.py:951\u001b[0m, in \u001b[0;36mPopen.__init__\u001b[1;34m(self, args, bufsize, executable, stdin, stdout, stderr, preexec_fn, close_fds, shell, cwd, env, universal_newlines, startupinfo, creationflags, restore_signals, start_new_session, pass_fds, user, group, extra_groups, encoding, errors, text, umask)\u001b[0m\n\u001b[0;32m    947\u001b[0m         \u001b[39mif\u001b[39;00m \u001b[39mself\u001b[39m\u001b[39m.\u001b[39mtext_mode:\n\u001b[0;32m    948\u001b[0m             \u001b[39mself\u001b[39m\u001b[39m.\u001b[39mstderr \u001b[39m=\u001b[39m io\u001b[39m.\u001b[39mTextIOWrapper(\u001b[39mself\u001b[39m\u001b[39m.\u001b[39mstderr,\n\u001b[0;32m    949\u001b[0m                     encoding\u001b[39m=\u001b[39mencoding, errors\u001b[39m=\u001b[39merrors)\n\u001b[1;32m--> 951\u001b[0m     \u001b[39mself\u001b[39;49m\u001b[39m.\u001b[39;49m_execute_child(args, executable, preexec_fn, close_fds,\n\u001b[0;32m    952\u001b[0m                         pass_fds, cwd, env,\n\u001b[0;32m    953\u001b[0m                         startupinfo, creationflags, shell,\n\u001b[0;32m    954\u001b[0m                         p2cread, p2cwrite,\n\u001b[0;32m    955\u001b[0m                         c2pread, c2pwrite,\n\u001b[0;32m    956\u001b[0m                         errread, errwrite,\n\u001b[0;32m    957\u001b[0m                         restore_signals,\n\u001b[0;32m    958\u001b[0m                         gid, gids, uid, umask,\n\u001b[0;32m    959\u001b[0m                         start_new_session)\n\u001b[0;32m    960\u001b[0m \u001b[39mexcept\u001b[39;00m:\n\u001b[0;32m    961\u001b[0m     \u001b[39m# Cleanup if the child failed starting.\u001b[39;00m\n\u001b[0;32m    962\u001b[0m     \u001b[39mfor\u001b[39;00m f \u001b[39min\u001b[39;00m \u001b[39mfilter\u001b[39m(\u001b[39mNone\u001b[39;00m, (\u001b[39mself\u001b[39m\u001b[39m.\u001b[39mstdin, \u001b[39mself\u001b[39m\u001b[39m.\u001b[39mstdout, \u001b[39mself\u001b[39m\u001b[39m.\u001b[39mstderr)):\n",
      "File \u001b[1;32mc:\\Users\\antoi\\miniconda3\\lib\\subprocess.py:1420\u001b[0m, in \u001b[0;36mPopen._execute_child\u001b[1;34m(self, args, executable, preexec_fn, close_fds, pass_fds, cwd, env, startupinfo, creationflags, shell, p2cread, p2cwrite, c2pread, c2pwrite, errread, errwrite, unused_restore_signals, unused_gid, unused_gids, unused_uid, unused_umask, unused_start_new_session)\u001b[0m\n\u001b[0;32m   1418\u001b[0m \u001b[39m# Start the process\u001b[39;00m\n\u001b[0;32m   1419\u001b[0m \u001b[39mtry\u001b[39;00m:\n\u001b[1;32m-> 1420\u001b[0m     hp, ht, pid, tid \u001b[39m=\u001b[39m _winapi\u001b[39m.\u001b[39;49mCreateProcess(executable, args,\n\u001b[0;32m   1421\u001b[0m                              \u001b[39m# no special security\u001b[39;49;00m\n\u001b[0;32m   1422\u001b[0m                              \u001b[39mNone\u001b[39;49;00m, \u001b[39mNone\u001b[39;49;00m,\n\u001b[0;32m   1423\u001b[0m                              \u001b[39mint\u001b[39;49m(\u001b[39mnot\u001b[39;49;00m close_fds),\n\u001b[0;32m   1424\u001b[0m                              creationflags,\n\u001b[0;32m   1425\u001b[0m                              env,\n\u001b[0;32m   1426\u001b[0m                              cwd,\n\u001b[0;32m   1427\u001b[0m                              startupinfo)\n\u001b[0;32m   1428\u001b[0m \u001b[39mfinally\u001b[39;00m:\n\u001b[0;32m   1429\u001b[0m     \u001b[39m# Child is launched. Close the parent's copy of those pipe\u001b[39;00m\n\u001b[0;32m   1430\u001b[0m     \u001b[39m# handles that only the child should have open.  You need\u001b[39;00m\n\u001b[1;32m   (...)\u001b[0m\n\u001b[0;32m   1433\u001b[0m     \u001b[39m# pipe will not close when the child process exits and the\u001b[39;00m\n\u001b[0;32m   1434\u001b[0m     \u001b[39m# ReadFile will hang.\u001b[39;00m\n\u001b[0;32m   1435\u001b[0m     \u001b[39mself\u001b[39m\u001b[39m.\u001b[39m_close_pipe_fds(p2cread, p2cwrite,\n\u001b[0;32m   1436\u001b[0m                          c2pread, c2pwrite,\n\u001b[0;32m   1437\u001b[0m                          errread, errwrite)\n",
      "\u001b[1;31mFileNotFoundError\u001b[0m: [WinError 2] The system cannot find the file specified"
     ]
    }
   ],
   "source": [
    "# PCA sorting\n",
    "log = {}\n",
    "\n",
    "for file in files:\n",
    "    for chunk_size in range(1000, 80000, 1000):\n",
    "        log[(file, chunk_size)] = [\n",
    "        monitor(pca_sort.sort_by_pca(\"data/ecoli_100Kb_reads_80x.fasta\", \"out_x.fasta\", chunk_size)),\n",
    "        monitor_gzip('out_x.fasta', f'{file.replace(\"/\", \"/headerless/\")}.headerless.gz')\n",
    "        ]\n",
    "        print(log)\n",
    "        os.remove('out_x.fasta')\n",
    "        os.remove('out_x.fasta.gz')\n",
    "        break\n"
   ]
  }
 ],
 "metadata": {
  "kernelspec": {
   "display_name": "Python 3.9.13",
   "language": "python",
   "name": "python3"
  },
  "language_info": {
   "codemirror_mode": {
    "name": "ipython",
    "version": 3
   },
   "file_extension": ".py",
   "mimetype": "text/x-python",
   "name": "python",
   "nbconvert_exporter": "python",
   "pygments_lexer": "ipython3",
   "version": "3.9.13"
  },
  "orig_nbformat": 4,
  "vscode": {
   "interpreter": {
    "hash": "889623747704b89ee8933d0082100de44667665ef46e99073be38ed503c32601"
   }
  }
 },
 "nbformat": 4,
 "nbformat_minor": 2
}
